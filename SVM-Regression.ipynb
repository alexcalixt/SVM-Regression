{
 "cells": [
  {
   "cell_type": "code",
   "execution_count": 1,
   "id": "bf8f0769",
   "metadata": {},
   "outputs": [],
   "source": [
    "import pandas as pd\n",
    "import numpy as np\n",
    "\n",
    "import matplotlib.pyplot as plt\n",
    "import seaborn as sns\n",
    "%matplotlib inline"
   ]
  },
  {
   "cell_type": "markdown",
   "id": "4e13c161",
   "metadata": {},
   "source": [
    "### Import Data"
   ]
  },
  {
   "cell_type": "code",
   "execution_count": 2,
   "id": "46c1b8ba",
   "metadata": {},
   "outputs": [],
   "source": [
    "data = pd.read_excel('Data_Train--Delivery.xlsx',usecols = [0,1,2,3,4,5,6,7])"
   ]
  },
  {
   "cell_type": "markdown",
   "id": "7e28c0e3",
   "metadata": {},
   "source": [
    "### EDA & Preprocessing"
   ]
  },
  {
   "cell_type": "code",
   "execution_count": 3,
   "id": "c12e63ce",
   "metadata": {},
   "outputs": [
    {
     "data": {
      "text/html": [
       "<div>\n",
       "<style scoped>\n",
       "    .dataframe tbody tr th:only-of-type {\n",
       "        vertical-align: middle;\n",
       "    }\n",
       "\n",
       "    .dataframe tbody tr th {\n",
       "        vertical-align: top;\n",
       "    }\n",
       "\n",
       "    .dataframe thead th {\n",
       "        text-align: right;\n",
       "    }\n",
       "</style>\n",
       "<table border=\"1\" class=\"dataframe\">\n",
       "  <thead>\n",
       "    <tr style=\"text-align: right;\">\n",
       "      <th></th>\n",
       "      <th>Restaurant</th>\n",
       "      <th>Cuisines</th>\n",
       "      <th>Average_Cost</th>\n",
       "      <th>Minimum_Order</th>\n",
       "      <th>Rating</th>\n",
       "      <th>Votes</th>\n",
       "      <th>Reviews</th>\n",
       "      <th>Delivery_Time</th>\n",
       "    </tr>\n",
       "  </thead>\n",
       "  <tbody>\n",
       "    <tr>\n",
       "      <th>0</th>\n",
       "      <td>ID_6321</td>\n",
       "      <td>Fast Food, Rolls, Burger, Salad, Wraps</td>\n",
       "      <td>200</td>\n",
       "      <td>50</td>\n",
       "      <td>3.5</td>\n",
       "      <td>12</td>\n",
       "      <td>4</td>\n",
       "      <td>30</td>\n",
       "    </tr>\n",
       "    <tr>\n",
       "      <th>1</th>\n",
       "      <td>ID_2882</td>\n",
       "      <td>Ice Cream, Desserts</td>\n",
       "      <td>100</td>\n",
       "      <td>50</td>\n",
       "      <td>3.5</td>\n",
       "      <td>11</td>\n",
       "      <td>4</td>\n",
       "      <td>30</td>\n",
       "    </tr>\n",
       "    <tr>\n",
       "      <th>2</th>\n",
       "      <td>ID_1595</td>\n",
       "      <td>Italian, Street Food, Fast Food</td>\n",
       "      <td>150</td>\n",
       "      <td>50</td>\n",
       "      <td>3.6</td>\n",
       "      <td>99</td>\n",
       "      <td>30</td>\n",
       "      <td>65</td>\n",
       "    </tr>\n",
       "    <tr>\n",
       "      <th>3</th>\n",
       "      <td>ID_5929</td>\n",
       "      <td>Mughlai, North Indian, Chinese</td>\n",
       "      <td>250</td>\n",
       "      <td>99</td>\n",
       "      <td>3.7</td>\n",
       "      <td>176</td>\n",
       "      <td>95</td>\n",
       "      <td>30</td>\n",
       "    </tr>\n",
       "    <tr>\n",
       "      <th>4</th>\n",
       "      <td>ID_6123</td>\n",
       "      <td>Cafe, Beverages</td>\n",
       "      <td>200</td>\n",
       "      <td>99</td>\n",
       "      <td>3.2</td>\n",
       "      <td>521</td>\n",
       "      <td>235</td>\n",
       "      <td>65</td>\n",
       "    </tr>\n",
       "  </tbody>\n",
       "</table>\n",
       "</div>"
      ],
      "text/plain": [
       "  Restaurant                                Cuisines  Average_Cost  \\\n",
       "0    ID_6321  Fast Food, Rolls, Burger, Salad, Wraps           200   \n",
       "1    ID_2882                     Ice Cream, Desserts           100   \n",
       "2    ID_1595         Italian, Street Food, Fast Food           150   \n",
       "3    ID_5929          Mughlai, North Indian, Chinese           250   \n",
       "4    ID_6123                         Cafe, Beverages           200   \n",
       "\n",
       "   Minimum_Order  Rating  Votes  Reviews  Delivery_Time  \n",
       "0             50     3.5     12        4             30  \n",
       "1             50     3.5     11        4             30  \n",
       "2             50     3.6     99       30             65  \n",
       "3             99     3.7    176       95             30  \n",
       "4             99     3.2    521      235             65  "
      ]
     },
     "execution_count": 3,
     "metadata": {},
     "output_type": "execute_result"
    }
   ],
   "source": [
    "data.head()"
   ]
  },
  {
   "cell_type": "code",
   "execution_count": 4,
   "id": "b8488fec",
   "metadata": {},
   "outputs": [
    {
     "name": "stdout",
     "output_type": "stream",
     "text": [
      "<class 'pandas.core.frame.DataFrame'>\n",
      "RangeIndex: 7772 entries, 0 to 7771\n",
      "Data columns (total 8 columns):\n",
      " #   Column         Non-Null Count  Dtype  \n",
      "---  ------         --------------  -----  \n",
      " 0   Restaurant     7772 non-null   object \n",
      " 1   Cuisines       7772 non-null   object \n",
      " 2   Average_Cost   7772 non-null   int64  \n",
      " 3   Minimum_Order  7772 non-null   int64  \n",
      " 4   Rating         7772 non-null   float64\n",
      " 5   Votes          7772 non-null   int64  \n",
      " 6   Reviews        7772 non-null   int64  \n",
      " 7   Delivery_Time  7772 non-null   int64  \n",
      "dtypes: float64(1), int64(5), object(2)\n",
      "memory usage: 485.9+ KB\n"
     ]
    }
   ],
   "source": [
    "data.info()"
   ]
  },
  {
   "cell_type": "code",
   "execution_count": 5,
   "id": "a446ec2a",
   "metadata": {},
   "outputs": [
    {
     "data": {
      "text/plain": [
       "(7772, 6)"
      ]
     },
     "execution_count": 5,
     "metadata": {},
     "output_type": "execute_result"
    }
   ],
   "source": [
    "#Label encoding categorical variables\n",
    "from sklearn.preprocessing import LabelEncoder\n",
    "\n",
    "lb_make = LabelEncoder()\n",
    "data['Restaurant_Code'] = lb_make.fit_transform(data['Restaurant'])\n",
    "\n",
    "#Check that encoding is correct \n",
    "#data.loc[data.duplicated(subset=['Restaurant_Code'])].sort_values(by=['Restaurant_Code'])\n",
    "\n",
    "# creates X & Y\n",
    "x_e = data.drop(columns = ['Delivery_Time','Restaurant','Cuisines'])\n",
    "y_e = data.Delivery_Time\n",
    "\n",
    "x_e.shape"
   ]
  },
  {
   "cell_type": "code",
   "execution_count": 6,
   "id": "37db28d0",
   "metadata": {},
   "outputs": [
    {
     "data": {
      "text/plain": [
       "(7772, 18)"
      ]
     },
     "execution_count": 6,
     "metadata": {},
     "output_type": "execute_result"
    }
   ],
   "source": [
    "#Binary encoding\n",
    "import category_encoders as ce\n",
    "\n",
    "encoder = ce.BinaryEncoder(cols=['Restaurant_Code'])\n",
    "\n",
    "x_b = encoder.fit_transform(x_e)#.drop(columns='Restaurant_Code')\n",
    "\n",
    "x_b.shape"
   ]
  },
  {
   "cell_type": "markdown",
   "id": "31e65afd",
   "metadata": {},
   "source": [
    "### SVM"
   ]
  },
  {
   "cell_type": "code",
   "execution_count": 7,
   "id": "4fea24af",
   "metadata": {},
   "outputs": [],
   "source": [
    "from sklearn.svm import SVR\n",
    "\n",
    "from sklearn.model_selection import cross_val_score\n",
    "\n",
    "from sklearn.model_selection import GridSearchCV\n",
    "\n",
    "seed = 123"
   ]
  },
  {
   "cell_type": "code",
   "execution_count": 8,
   "id": "c3c59f37",
   "metadata": {},
   "outputs": [
    {
     "name": "stdout",
     "output_type": "stream",
     "text": [
      "Fitting 5 folds for each of 20 candidates, totalling 100 fits\n"
     ]
    },
    {
     "data": {
      "text/plain": [
       "GridSearchCV(estimator=SVR(), n_jobs=-1,\n",
       "             param_grid={'C': [0.1, 1, 10, 100, 1000],\n",
       "                         'gamma': [1, 0.1, 0.001, 0.0001]},\n",
       "             verbose=3)"
      ]
     },
     "execution_count": 8,
     "metadata": {},
     "output_type": "execute_result"
    }
   ],
   "source": [
    "#Search for best parameters\n",
    "\n",
    "params_to_search = {'C':[0.1,1,10,100,1000], 'gamma':[1,0.1,0.001,0.0001]}\n",
    "\n",
    "grid = GridSearchCV(SVR(), params_to_search, verbose = 3, n_jobs = -1)\n",
    "\n",
    "grid.fit(x_b,y_e)"
   ]
  },
  {
   "cell_type": "code",
   "execution_count": 9,
   "id": "49ecf7fb",
   "metadata": {},
   "outputs": [
    {
     "data": {
      "text/plain": [
       "{'C': 1, 'gamma': 0.001}"
      ]
     },
     "execution_count": 9,
     "metadata": {},
     "output_type": "execute_result"
    }
   ],
   "source": [
    "grid.best_params_"
   ]
  },
  {
   "cell_type": "code",
   "execution_count": 17,
   "id": "060fece3",
   "metadata": {},
   "outputs": [
    {
     "data": {
      "text/plain": [
       "GridSearchCV(estimator=SVR(), n_jobs=-1,\n",
       "             param_grid={'C': [0.1, 1, 10, 100, 1000],\n",
       "                         'gamma': [1, 0.1, 0.001, 0.0001]},\n",
       "             verbose=3)"
      ]
     },
     "execution_count": 17,
     "metadata": {},
     "output_type": "execute_result"
    }
   ],
   "source": [
    "grid"
   ]
  },
  {
   "cell_type": "code",
   "execution_count": 13,
   "id": "51b87164",
   "metadata": {},
   "outputs": [],
   "source": [
    "svr = SVR(C= 1, gamma = 0.001)"
   ]
  },
  {
   "cell_type": "code",
   "execution_count": 14,
   "id": "27c0ac2d",
   "metadata": {},
   "outputs": [],
   "source": [
    "svr_model = svr.fit(x_b,y_e)"
   ]
  },
  {
   "cell_type": "code",
   "execution_count": 15,
   "id": "d54d67a7",
   "metadata": {},
   "outputs": [],
   "source": [
    "#Validation\n",
    "\n",
    "metric = 'neg_root_mean_squared_error'\n",
    "\n",
    "kfold_dtr = cross_val_score(svr ,x_b ,y_e ,cv = 10, n_jobs = -1,scoring = metric)"
   ]
  },
  {
   "cell_type": "code",
   "execution_count": 16,
   "id": "b0e3e985",
   "metadata": {},
   "outputs": [
    {
     "name": "stdout",
     "output_type": "stream",
     "text": [
      "Support Vector Regressor RMSE: 10.432348865408139\n"
     ]
    }
   ],
   "source": [
    "#Metric results\n",
    "\n",
    "print('Support Vector Regressor RMSE:',np.absolute(kfold_dtr.mean()))"
   ]
  }
 ],
 "metadata": {
  "kernelspec": {
   "display_name": "Python 3",
   "language": "python",
   "name": "python3"
  },
  "language_info": {
   "codemirror_mode": {
    "name": "ipython",
    "version": 3
   },
   "file_extension": ".py",
   "mimetype": "text/x-python",
   "name": "python",
   "nbconvert_exporter": "python",
   "pygments_lexer": "ipython3",
   "version": "3.8.8"
  }
 },
 "nbformat": 4,
 "nbformat_minor": 5
}
